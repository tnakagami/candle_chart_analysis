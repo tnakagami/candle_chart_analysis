{
 "cells": [
  {
   "cell_type": "markdown",
   "metadata": {},
   "source": [
    "### ロウソク足の描画\n",
    "1分のロウソク足データを用いて、1時間ごとのチャートを描画する。\n",
    "\n",
    "### 正解ラベルの付与\n",
    "* 1分のロウソク足をダウンサンプリングし、1時間のロウソク足とする。このデータを用いて、下降/停滞/上昇の3パターンに分類する。\n",
    "* ここでは、2015年から2020年までのデータを用いて、変化量の平均値と標準偏差を推定する。本来、未来の値は利用できないが、傾向分析により得られた結果という位置づけで利用する。\n",
    "* また、変化量は、推定した分布（正規分布）に従うものとし、人手で決めた閾値で分類する。今回は、閾値を0.1とし、以下のように分類した。\n",
    "\n",
    "| パターン | 条件 | クラス | ラベル |\n",
    "| :--- | :--- | :--- | :--- |\n",
    "| 下降 | 変化量が-0.1以下 | 0 | down |\n",
    "| 停滞 | 変化量が-0.1より大きく0.1より小さい | 1 | stay |\n",
    "| 上昇 | 変化量が0.1以上 | 2 | up |"
   ]
  },
  {
   "cell_type": "code",
   "execution_count": 1,
   "metadata": {},
   "outputs": [],
   "source": [
    "import os\n",
    "import pandas as pd\n",
    "import mplfinance as mpf\n",
    "import matplotlib.pyplot as plt\n",
    "from matplotlib import gridspec\n",
    "%matplotlib inline"
   ]
  },
  {
   "cell_type": "code",
   "execution_count": 2,
   "metadata": {},
   "outputs": [],
   "source": [
    "# データの読み込み\n",
    "df = pd.read_csv('csv/concat_USDJPY2015_2020.csv', index_col='datetime', parse_dates=True)\n",
    "create_chart = True"
   ]
  },
  {
   "cell_type": "code",
   "execution_count": 3,
   "metadata": {},
   "outputs": [],
   "source": [
    "# 平均値と標準偏差を算出\n",
    "def estimate_mean_std(df):\n",
    "    target = df.resample('H').agg({'open': 'first', 'high': 'max', 'low': 'min', 'close': 'last', 'volume': 'sum'})\n",
    "    series = target['close'].pct_change(1).shift(-1).fillna(0)\n",
    "    print('mean: {:.15e}'.format(series.mean()))\n",
    "    print('std:  {:.15e}'.format(series.std()))\n",
    "    \n",
    "    return series\n",
    "\n",
    "# ヒストグラムの描画\n",
    "def plot_histogram(series. threshold=0.1):\n",
    "    # ヒストグラムの描画\n",
    "    series_std = (series - series.mean()) / series.std()\n",
    "    fig = plt.figure(figsize=(15,5))\n",
    "    ax = fig.add_subplot(1, 1, 1)\n",
    "    ax.set_title('Distribution of pct_change')\n",
    "    ax.set_xlabel('pct_change')\n",
    "    ax.set_ylabel('frequency')\n",
    "    ax.set_ylim(0, 1.0)\n",
    "    judge = series_std.abs() < threshold\n",
    "    ax.hist(series_std,        bins=1000, range=(-5, 5), density=True, alpha=0.3, color='b')\n",
    "    ax.hist(series_std[judge], bins=1000, range=(-5, 5), density=True, alpha=0.3, color='r')\n",
    "    ax.grid()\n",
    "    matched = series_std[judge].count()\n",
    "    total = series_std.count()\n",
    "    print('matched / total: {} / {} ({:.3%})'.format(matched, total, matched / total))\n",
    "    \n",
    "    return ax"
   ]
  },
  {
   "cell_type": "code",
   "execution_count": 4,
   "metadata": {},
   "outputs": [],
   "source": [
    "class CreateDataset():\n",
    "    def __init__(self, mean, std, df, root_dir='chart'):\n",
    "        self.root_dir = root_dir\n",
    "        self.mean = mean\n",
    "        self.std = std\n",
    "        # 1分のロウソク足の読み込み\n",
    "        self.df = df.copy()\n",
    "        # 1時間のロウソク足の作成\n",
    "        self.downsampling = df.resample('H').agg({'open': 'first', 'high': 'max', 'low': 'min', 'close': 'last', 'volume': 'sum'}).dropna()\n",
    "\n",
    "    def __get_output_path(self, time):\n",
    "        output_filename = 'fig{}.png'.format(time.strftime('%Y%m%d%H%M'))\n",
    "        output_path = os.path.join(self.root_dir, time.strftime('%Y/%m'), output_filename)\n",
    "        \n",
    "        return output_path\n",
    "        \n",
    "    # チャート出力用関数\n",
    "    def plot_chart(self):\n",
    "        indices = self.downsampling.index\n",
    "        # 出力先のディレクトリ作成\n",
    "        date = indices.to_series().apply(lambda date: date.strftime('%Y/%m'))\n",
    "        dirs = date.drop_duplicates().to_list()\n",
    "        for dirname in dirs:\n",
    "            dir_path = os.path.join(self.root_dir, dirname)\n",
    "            os.makedirs(dir_path, exist_ok=True)\n",
    "        # figureの生成\n",
    "        fig = mpf.figure(style='yahoo', figsize=(3, 3))\n",
    "        # 余白の設定\n",
    "        fig.subplots_adjust(left=0, right=1, bottom=0, top=1)\n",
    "        # Axesの生成\n",
    "        ax = fig.add_subplot(1, 1, 1)\n",
    "        # plot\n",
    "        for idx in indices:\n",
    "            print(idx.strftime('%Y/%m/%d %H:%M'))\n",
    "            mpf.plot(self.df[idx.strftime('%Y-%m-%d %H')], type='candle', ax=ax, tight_layout=True)\n",
    "            # ラベルを削除\n",
    "            ax.grid(False)\n",
    "            ax.axes.xaxis.set_ticks([])\n",
    "            ax.axes.yaxis.set_ticks([])\n",
    "            ax.axes.xaxis.set_visible(False)\n",
    "            ax.axes.yaxis.set_visible(False)\n",
    "            ax.axis('off')\n",
    "            fig.savefig(self.__get_output_path(idx))\n",
    "            ax.clear()\n",
    "\n",
    "        plt.close(fig)\n",
    "\n",
    "    # チャートから正解ラベルを生成\n",
    "    def create_groundtruth(self, threshold=0.1):\n",
    "        # 差分抽出\n",
    "        series = self.downsampling['close'].pct_change(1).shift(-1).fillna(0)\n",
    "        series_std = (series - self.mean) / self.std\n",
    "        # DataFrameの用意\n",
    "        indices = self.downsampling.index\n",
    "        ret_df = pd.DataFrame(index=indices, columns=['path', 'class', 'label'])\n",
    "        ret_df['path'] = indices.to_series().apply(lambda time: self.__get_output_path(time))\n",
    "        # 初期化（下降）\n",
    "        ret_df['class'] = 0\n",
    "        ret_df['label'] = 'down'\n",
    "        # 「停滞する」部分の抽出\n",
    "        judge = series_std.abs() < threshold\n",
    "        ret_df.loc[judge, 'class'] = 1\n",
    "        ret_df.loc[judge, 'label'] = 'stay'\n",
    "        # 「上昇する」部分の抽出\n",
    "        judge = series_std >= threshold\n",
    "        ret_df.loc[judge, 'class'] = 2\n",
    "        ret_df.loc[judge, 'label'] = 'up'\n",
    "\n",
    "        return ret_df\n",
    "    \n",
    "# データセットの出力\n",
    "def output_dataset(df, output_filename):\n",
    "    df.to_csv(output_filename, header=True, index=False)"
   ]
  },
  {
   "cell_type": "code",
   "execution_count": 5,
   "metadata": {},
   "outputs": [],
   "source": [
    "# ================\n",
    "# データセット作成\n",
    "# ================\n",
    "threshold = 0.1\n",
    "train_output_filename = 'train_dataset.csv'\n",
    "test_output_filename = 'test_dataset.csv'\n",
    "train_df = df[:'2019'].copy()\n",
    "test_df = df['2020'].copy()"
   ]
  },
  {
   "cell_type": "code",
   "execution_count": 6,
   "metadata": {},
   "outputs": [
    {
     "name": "stdout",
     "output_type": "stream",
     "text": [
      "mean: -2.390418170110073e-06\n",
      "std:  9.253835465544304e-04\n",
      "matched / total: 19732 / 52584 (37.5247223490035%)\n"
     ]
    },
    {
     "data": {
      "text/plain": [
       "<AxesSubplot:title={'center':'Distribution of pct_change'}, xlabel='pct_change', ylabel='frequency'>"
      ]
     },
     "execution_count": 6,
     "metadata": {},
     "output_type": "execute_result"
    },
    {
     "data": {
      "image/png": "[encoded data removed]",
      "text/plain": [
       "<Figure size 1080x360 with 1 Axes>"
      ]
     },
     "metadata": {
      "needs_background": "light"
     },
     "output_type": "display_data"
    }
   ],
   "source": [
    "# データの推定\n",
    "series = estimate_mean_std(df)\n",
    "plot_histogram(series, threshold)"
   ]
  },
  {
   "cell_type": "code",
   "execution_count": 7,
   "metadata": {},
   "outputs": [],
   "source": [
    "# インスタンス生成\n",
    "mean, std = series.mean(), series.std()\n",
    "train_creater = CreateDataset(mean, std, train_df)\n",
    "test_creater = CreateDataset(mean, std, test_df)\n",
    "# 正解ラベルの生成\n",
    "output_train_df = train_creater.create_groundtruth(threshold)\n",
    "output_test_df = test_creater.create_groundtruth(threshold)\n",
    "output_dataset(output_train_df, train_output_filename)\n",
    "output_dataset(output_test_df, test_output_filename)\n",
    "\n",
    "if create_chart:\n",
    "    # 時間のかかる処理\n",
    "    train_creater.plot_chart()\n",
    "    test_creater.plot_chart()"
   ]
  },
  {
   "cell_type": "code",
   "execution_count": 8,
   "metadata": {},
   "outputs": [],
   "source": [
    "# データセットのパスの確認\n",
    "for filename in [train_output_filename, test_output_filename]:\n",
    "    out_df = pd.read_csv(filename)\n",
    "\n",
    "    for row in out_df.itertuples():\n",
    "        if not os.path.exists(row.path):\n",
    "            print('{} does not exist'.format(row.path))"
   ]
  }
 ],
 "metadata": {
  "kernelspec": {
   "display_name": "Python 3",
   "language": "python",
   "name": "python3"
  },
  "language_info": {
   "codemirror_mode": {
    "name": "ipython",
    "version": 3
   },
   "file_extension": ".py",
   "mimetype": "text/x-python",
   "name": "python",
   "nbconvert_exporter": "python",
   "pygments_lexer": "ipython3",
   "version": "3.8.8"
  }
 },
 "nbformat": 4,
 "nbformat_minor": 4
}